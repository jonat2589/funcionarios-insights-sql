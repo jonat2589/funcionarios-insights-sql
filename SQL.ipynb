{
  "nbformat": 4,
  "nbformat_minor": 0,
  "metadata": {
    "colab": {
      "provenance": []
    },
    "kernelspec": {
      "name": "python3",
      "display_name": "Python 3"
    },
    "language_info": {
      "name": "python"
    }
  },
  "cells": [
    {
      "cell_type": "code",
      "execution_count": 1,
      "metadata": {
        "id": "8OS0l-pDSGe8"
      },
      "outputs": [],
      "source": [
        "# 1. Importando bibliotecas\n",
        "import pandas as pd\n",
        "import sqlite3\n",
        "from google.colab import files"
      ]
    },
    {
      "cell_type": "code",
      "source": [
        "# 2. Upload dos arquivos CSV\n",
        "uploaded = files.upload()"
      ],
      "metadata": {
        "colab": {
          "base_uri": "https://localhost:8080/",
          "height": 73
        },
        "id": "OGAvbjA2SQR8",
        "outputId": "d8dd31a1-586a-4405-c827-f28cd9129a19"
      },
      "execution_count": 4,
      "outputs": [
        {
          "output_type": "display_data",
          "data": {
            "text/plain": [
              "<IPython.core.display.HTML object>"
            ],
            "text/html": [
              "\n",
              "     <input type=\"file\" id=\"files-11010b6a-bc4b-4782-9ad4-f98abb545435\" name=\"files[]\" multiple disabled\n",
              "        style=\"border:none\" />\n",
              "     <output id=\"result-11010b6a-bc4b-4782-9ad4-f98abb545435\">\n",
              "      Upload widget is only available when the cell has been executed in the\n",
              "      current browser session. Please rerun this cell to enable.\n",
              "      </output>\n",
              "      <script>// Copyright 2017 Google LLC\n",
              "//\n",
              "// Licensed under the Apache License, Version 2.0 (the \"License\");\n",
              "// you may not use this file except in compliance with the License.\n",
              "// You may obtain a copy of the License at\n",
              "//\n",
              "//      http://www.apache.org/licenses/LICENSE-2.0\n",
              "//\n",
              "// Unless required by applicable law or agreed to in writing, software\n",
              "// distributed under the License is distributed on an \"AS IS\" BASIS,\n",
              "// WITHOUT WARRANTIES OR CONDITIONS OF ANY KIND, either express or implied.\n",
              "// See the License for the specific language governing permissions and\n",
              "// limitations under the License.\n",
              "\n",
              "/**\n",
              " * @fileoverview Helpers for google.colab Python module.\n",
              " */\n",
              "(function(scope) {\n",
              "function span(text, styleAttributes = {}) {\n",
              "  const element = document.createElement('span');\n",
              "  element.textContent = text;\n",
              "  for (const key of Object.keys(styleAttributes)) {\n",
              "    element.style[key] = styleAttributes[key];\n",
              "  }\n",
              "  return element;\n",
              "}\n",
              "\n",
              "// Max number of bytes which will be uploaded at a time.\n",
              "const MAX_PAYLOAD_SIZE = 100 * 1024;\n",
              "\n",
              "function _uploadFiles(inputId, outputId) {\n",
              "  const steps = uploadFilesStep(inputId, outputId);\n",
              "  const outputElement = document.getElementById(outputId);\n",
              "  // Cache steps on the outputElement to make it available for the next call\n",
              "  // to uploadFilesContinue from Python.\n",
              "  outputElement.steps = steps;\n",
              "\n",
              "  return _uploadFilesContinue(outputId);\n",
              "}\n",
              "\n",
              "// This is roughly an async generator (not supported in the browser yet),\n",
              "// where there are multiple asynchronous steps and the Python side is going\n",
              "// to poll for completion of each step.\n",
              "// This uses a Promise to block the python side on completion of each step,\n",
              "// then passes the result of the previous step as the input to the next step.\n",
              "function _uploadFilesContinue(outputId) {\n",
              "  const outputElement = document.getElementById(outputId);\n",
              "  const steps = outputElement.steps;\n",
              "\n",
              "  const next = steps.next(outputElement.lastPromiseValue);\n",
              "  return Promise.resolve(next.value.promise).then((value) => {\n",
              "    // Cache the last promise value to make it available to the next\n",
              "    // step of the generator.\n",
              "    outputElement.lastPromiseValue = value;\n",
              "    return next.value.response;\n",
              "  });\n",
              "}\n",
              "\n",
              "/**\n",
              " * Generator function which is called between each async step of the upload\n",
              " * process.\n",
              " * @param {string} inputId Element ID of the input file picker element.\n",
              " * @param {string} outputId Element ID of the output display.\n",
              " * @return {!Iterable<!Object>} Iterable of next steps.\n",
              " */\n",
              "function* uploadFilesStep(inputId, outputId) {\n",
              "  const inputElement = document.getElementById(inputId);\n",
              "  inputElement.disabled = false;\n",
              "\n",
              "  const outputElement = document.getElementById(outputId);\n",
              "  outputElement.innerHTML = '';\n",
              "\n",
              "  const pickedPromise = new Promise((resolve) => {\n",
              "    inputElement.addEventListener('change', (e) => {\n",
              "      resolve(e.target.files);\n",
              "    });\n",
              "  });\n",
              "\n",
              "  const cancel = document.createElement('button');\n",
              "  inputElement.parentElement.appendChild(cancel);\n",
              "  cancel.textContent = 'Cancel upload';\n",
              "  const cancelPromise = new Promise((resolve) => {\n",
              "    cancel.onclick = () => {\n",
              "      resolve(null);\n",
              "    };\n",
              "  });\n",
              "\n",
              "  // Wait for the user to pick the files.\n",
              "  const files = yield {\n",
              "    promise: Promise.race([pickedPromise, cancelPromise]),\n",
              "    response: {\n",
              "      action: 'starting',\n",
              "    }\n",
              "  };\n",
              "\n",
              "  cancel.remove();\n",
              "\n",
              "  // Disable the input element since further picks are not allowed.\n",
              "  inputElement.disabled = true;\n",
              "\n",
              "  if (!files) {\n",
              "    return {\n",
              "      response: {\n",
              "        action: 'complete',\n",
              "      }\n",
              "    };\n",
              "  }\n",
              "\n",
              "  for (const file of files) {\n",
              "    const li = document.createElement('li');\n",
              "    li.append(span(file.name, {fontWeight: 'bold'}));\n",
              "    li.append(span(\n",
              "        `(${file.type || 'n/a'}) - ${file.size} bytes, ` +\n",
              "        `last modified: ${\n",
              "            file.lastModifiedDate ? file.lastModifiedDate.toLocaleDateString() :\n",
              "                                    'n/a'} - `));\n",
              "    const percent = span('0% done');\n",
              "    li.appendChild(percent);\n",
              "\n",
              "    outputElement.appendChild(li);\n",
              "\n",
              "    const fileDataPromise = new Promise((resolve) => {\n",
              "      const reader = new FileReader();\n",
              "      reader.onload = (e) => {\n",
              "        resolve(e.target.result);\n",
              "      };\n",
              "      reader.readAsArrayBuffer(file);\n",
              "    });\n",
              "    // Wait for the data to be ready.\n",
              "    let fileData = yield {\n",
              "      promise: fileDataPromise,\n",
              "      response: {\n",
              "        action: 'continue',\n",
              "      }\n",
              "    };\n",
              "\n",
              "    // Use a chunked sending to avoid message size limits. See b/62115660.\n",
              "    let position = 0;\n",
              "    do {\n",
              "      const length = Math.min(fileData.byteLength - position, MAX_PAYLOAD_SIZE);\n",
              "      const chunk = new Uint8Array(fileData, position, length);\n",
              "      position += length;\n",
              "\n",
              "      const base64 = btoa(String.fromCharCode.apply(null, chunk));\n",
              "      yield {\n",
              "        response: {\n",
              "          action: 'append',\n",
              "          file: file.name,\n",
              "          data: base64,\n",
              "        },\n",
              "      };\n",
              "\n",
              "      let percentDone = fileData.byteLength === 0 ?\n",
              "          100 :\n",
              "          Math.round((position / fileData.byteLength) * 100);\n",
              "      percent.textContent = `${percentDone}% done`;\n",
              "\n",
              "    } while (position < fileData.byteLength);\n",
              "  }\n",
              "\n",
              "  // All done.\n",
              "  yield {\n",
              "    response: {\n",
              "      action: 'complete',\n",
              "    }\n",
              "  };\n",
              "}\n",
              "\n",
              "scope.google = scope.google || {};\n",
              "scope.google.colab = scope.google.colab || {};\n",
              "scope.google.colab._files = {\n",
              "  _uploadFiles,\n",
              "  _uploadFilesContinue,\n",
              "};\n",
              "})(self);\n",
              "</script> "
            ]
          },
          "metadata": {}
        },
        {
          "output_type": "stream",
          "name": "stdout",
          "text": [
            "Saving TB_VENDAS_TAREFA.csv to TB_VENDAS_TAREFA.csv\n"
          ]
        }
      ]
    },
    {
      "cell_type": "code",
      "source": [
        "# 3. Lendo os arquivos CSV\n",
        "df_funcionarios = pd.read_csv(\"td_funcionarios.csv\", delimiter=';')\n",
        "df_vendas = pd.read_csv(\"TB_VENDAS_TAREFA.csv\", delimiter=';')"
      ],
      "metadata": {
        "id": "cPTsVkIFSSUb"
      },
      "execution_count": 5,
      "outputs": []
    },
    {
      "cell_type": "code",
      "source": [
        "# 4. Criando o banco de dados SQLite em memória\n",
        "conn = sqlite3.connect(':memory:')"
      ],
      "metadata": {
        "id": "WTiuxbN5SXG9"
      },
      "execution_count": 6,
      "outputs": []
    },
    {
      "cell_type": "code",
      "source": [
        "# 5. Enviando os DataFrames para o banco SQLite\n",
        "df_funcionarios.to_sql('td_funcionarios', conn, index=False, if_exists='replace')\n",
        "df_vendas.to_sql('tb_vendas', conn, index=False, if_exists='replace')"
      ],
      "metadata": {
        "colab": {
          "base_uri": "https://localhost:8080/"
        },
        "id": "CykNdPk5SdT8",
        "outputId": "ed0ea69f-e579-4ccc-a22a-54944eebfdcd"
      },
      "execution_count": 7,
      "outputs": [
        {
          "output_type": "execute_result",
          "data": {
            "text/plain": [
              "24"
            ]
          },
          "metadata": {},
          "execution_count": 7
        }
      ]
    },
    {
      "cell_type": "code",
      "source": [
        "# 6. Função para executar queries SQL\n",
        "def run_query(query):\n",
        "    return pd.read_sql_query(query, conn)"
      ],
      "metadata": {
        "id": "OSDXPOTtSfE7"
      },
      "execution_count": 8,
      "outputs": []
    },
    {
      "cell_type": "code",
      "source": [
        "# ---------------------------- CONSULTAS SQL ----------------------------\n"
      ],
      "metadata": {
        "id": "2L3qU_2FSg6c"
      },
      "execution_count": 9,
      "outputs": []
    },
    {
      "cell_type": "code",
      "source": [
        "# Selecionando áreas distintas\n",
        "query = \"SELECT DISTINCT ÁREA FROM td_funcionarios\"\n",
        "print(run_query(query))"
      ],
      "metadata": {
        "colab": {
          "base_uri": "https://localhost:8080/"
        },
        "id": "OEF6NehRS66r",
        "outputId": "50ae96e0-c174-4ac5-a091-946a4713c04c"
      },
      "execution_count": 10,
      "outputs": [
        {
          "output_type": "stream",
          "name": "stdout",
          "text": [
            "        ÁREA\n",
            "0         TI\n",
            "1        ADM\n",
            "2  MARKETING\n"
          ]
        }
      ]
    },
    {
      "cell_type": "code",
      "source": [
        "# Filtrando cargos dentro da área de TI\n",
        "query = \"SELECT CARGO FROM td_funcionarios WHERE ÁREA IN ('TI')\"\n",
        "print(run_query(query))"
      ],
      "metadata": {
        "colab": {
          "base_uri": "https://localhost:8080/"
        },
        "id": "TbkQw5cBTPus",
        "outputId": "5ca1a4c2-c068-42a2-b9fa-a634a3d5104d"
      },
      "execution_count": 11,
      "outputs": [
        {
          "output_type": "stream",
          "name": "stdout",
          "text": [
            "    CARGO\n",
            "0  JUNIOR\n",
            "1  SENIOR\n",
            "2  SENIOR\n"
          ]
        }
      ]
    },
    {
      "cell_type": "code",
      "source": [
        "# Filtrando funcionários de TI e ADM\n",
        "query = \"SELECT * FROM td_funcionarios WHERE ÁREA IN ('TI', 'ADM')\"\n",
        "print(run_query(query))"
      ],
      "metadata": {
        "colab": {
          "base_uri": "https://localhost:8080/"
        },
        "id": "9dFREQP3TRo5",
        "outputId": "54ffe813-0ba1-4eb0-ba9f-011d2ef61c10"
      },
      "execution_count": 12,
      "outputs": [
        {
          "output_type": "stream",
          "name": "stdout",
          "text": [
            "    ID ÁREA   CARGO  SALÁRIO  TEMPO_NA_EMPRESA\n",
            "0  136   TI  JUNIOR     2500                 0\n",
            "1  125   TI  SENIOR     6000                 1\n",
            "2  148   TI  SENIOR     6000                 2\n",
            "3  456  ADM   PLENO     4500                 2\n",
            "4  345  ADM   PLENO     4600                 4\n",
            "5  254  ADM  SENIOR     5600                 5\n",
            "6  178  ADM  JUNIOR     2200                 0\n"
          ]
        }
      ]
    },
    {
      "cell_type": "code",
      "source": [
        "# Filtrando área que começa com \"T\"\n",
        "query = \"SELECT * FROM td_funcionarios WHERE ÁREA LIKE 'T%'\"\n",
        "print(run_query(query))"
      ],
      "metadata": {
        "colab": {
          "base_uri": "https://localhost:8080/"
        },
        "id": "wCmoMKsvTTwO",
        "outputId": "a11953d9-4899-42b9-a8fb-ef6ffeecab60"
      },
      "execution_count": 13,
      "outputs": [
        {
          "output_type": "stream",
          "name": "stdout",
          "text": [
            "    ID ÁREA   CARGO  SALÁRIO  TEMPO_NA_EMPRESA\n",
            "0  136   TI  JUNIOR     2500                 0\n",
            "1  125   TI  SENIOR     6000                 1\n",
            "2  148   TI  SENIOR     6000                 2\n"
          ]
        }
      ]
    },
    {
      "cell_type": "code",
      "source": [
        "# Comparando usando letras minúsculas com LOWER\n",
        "query = \"\"\"\n",
        "SELECT *\n",
        "FROM td_funcionarios\n",
        "WHERE LOWER(ÁREA) IN ('adm', 'ti')\n",
        "\"\"\"\n",
        "print(run_query(query))"
      ],
      "metadata": {
        "colab": {
          "base_uri": "https://localhost:8080/"
        },
        "id": "nFR3N-wHTVZq",
        "outputId": "7bdc553a-dced-411b-9155-07631a572090"
      },
      "execution_count": 14,
      "outputs": [
        {
          "output_type": "stream",
          "name": "stdout",
          "text": [
            "    ID ÁREA   CARGO  SALÁRIO  TEMPO_NA_EMPRESA\n",
            "0  136   TI  JUNIOR     2500                 0\n",
            "1  125   TI  SENIOR     6000                 1\n",
            "2  148   TI  SENIOR     6000                 2\n",
            "3  456  ADM   PLENO     4500                 2\n",
            "4  345  ADM   PLENO     4600                 4\n",
            "5  254  ADM  SENIOR     5600                 5\n",
            "6  178  ADM  JUNIOR     2200                 0\n"
          ]
        }
      ]
    },
    {
      "cell_type": "code",
      "source": [
        "# Exibindo apenas a coluna área em minúsculo\n",
        "query = \"\"\"\n",
        "SELECT LOWER(ÁREA) AS AREA_MINUSCULA\n",
        "FROM td_funcionarios\n",
        "WHERE LOWER(ÁREA) IN ('adm', 'ti')\n",
        "\"\"\"\n",
        "print(run_query(query))"
      ],
      "metadata": {
        "colab": {
          "base_uri": "https://localhost:8080/"
        },
        "id": "Sjbb7kV7TXzc",
        "outputId": "8aef9c72-6a9a-4ffb-94f1-fc09aa86f1bb"
      },
      "execution_count": 15,
      "outputs": [
        {
          "output_type": "stream",
          "name": "stdout",
          "text": [
            "  AREA_MINUSCULA\n",
            "0             ti\n",
            "1             ti\n",
            "2             ti\n",
            "3            adm\n",
            "4            adm\n",
            "5            adm\n",
            "6            adm\n"
          ]
        }
      ]
    },
    {
      "cell_type": "code",
      "source": [
        "# Funcionários com salário maior ou igual a 2000\n",
        "query = \"SELECT * FROM td_funcionarios WHERE SALÁRIO >= 2000\"\n",
        "print(run_query(query))"
      ],
      "metadata": {
        "colab": {
          "base_uri": "https://localhost:8080/"
        },
        "id": "tthuAzZYTaOL",
        "outputId": "141e6de5-3831-47b6-abb5-50888d04689d"
      },
      "execution_count": 16,
      "outputs": [
        {
          "output_type": "stream",
          "name": "stdout",
          "text": [
            "    ID       ÁREA   CARGO  SALÁRIO  TEMPO_NA_EMPRESA\n",
            "0  136         TI  JUNIOR     2500                 0\n",
            "1  125         TI  SENIOR     6000                 1\n",
            "2  148         TI  SENIOR     6000                 2\n",
            "3  456        ADM   PLENO     4500                 2\n",
            "4  345        ADM   PLENO     4600                 4\n",
            "5  254        ADM  SENIOR     5600                 5\n",
            "6  178        ADM  JUNIOR     2200                 0\n",
            "7  365  MARKETING  JUNIOR     2300                 1\n",
            "8  145  MARKETING  SENIOR     5500                 3\n",
            "9  258  MARKETING   PLENO     4600                 2\n"
          ]
        }
      ]
    },
    {
      "cell_type": "code",
      "source": [
        "# Contagem de funcionários com salário maior ou igual a 2000\n",
        "query = \"SELECT COUNT(ID) AS QTD_SALARIO_2000_MAIS FROM td_funcionarios WHERE SALÁRIO >= 2000\"\n",
        "print(run_query(query))"
      ],
      "metadata": {
        "colab": {
          "base_uri": "https://localhost:8080/"
        },
        "id": "_xITdIxtTcCb",
        "outputId": "d2fbb2b4-5b93-4110-eea9-f552f8f47d3c"
      },
      "execution_count": 17,
      "outputs": [
        {
          "output_type": "stream",
          "name": "stdout",
          "text": [
            "   QTD_SALARIO_2000_MAIS\n",
            "0                     10\n"
          ]
        }
      ]
    },
    {
      "cell_type": "code",
      "source": [
        "# Contagem com salário menor ou igual a 2000\n",
        "query = \"SELECT COUNT(ID) AS QTD_SALARIO_2000_MENOS FROM td_funcionarios WHERE SALÁRIO <= 2000\"\n",
        "print(run_query(query))"
      ],
      "metadata": {
        "colab": {
          "base_uri": "https://localhost:8080/"
        },
        "id": "-8CdCvz4TeGt",
        "outputId": "73ee9884-ec44-470a-bad5-f36c5db0ce82"
      },
      "execution_count": 18,
      "outputs": [
        {
          "output_type": "stream",
          "name": "stdout",
          "text": [
            "   QTD_SALARIO_2000_MENOS\n",
            "0                       0\n"
          ]
        }
      ]
    },
    {
      "cell_type": "code",
      "source": [
        "# Usando AND para filtrar\n",
        "query = \"SELECT * FROM td_funcionarios WHERE ÁREA = 'TI' AND CARGO = 'ADM'\"\n",
        "print(run_query(query))"
      ],
      "metadata": {
        "colab": {
          "base_uri": "https://localhost:8080/"
        },
        "id": "ggo02dgTTgU7",
        "outputId": "d7e2e509-6dc6-41b8-c310-02b464d73841"
      },
      "execution_count": 19,
      "outputs": [
        {
          "output_type": "stream",
          "name": "stdout",
          "text": [
            "Empty DataFrame\n",
            "Columns: [ID, ÁREA, CARGO, SALÁRIO, TEMPO_NA_EMPRESA]\n",
            "Index: []\n"
          ]
        }
      ]
    },
    {
      "cell_type": "code",
      "source": [
        "# Usando OR para filtrar\n",
        "query = \"SELECT * FROM td_funcionarios WHERE ÁREA = 'TI' OR CARGO = 'ADM'\"\n",
        "print(run_query(query))"
      ],
      "metadata": {
        "colab": {
          "base_uri": "https://localhost:8080/"
        },
        "id": "xcT1r7DGTiHb",
        "outputId": "0c10a6ae-2553-4514-cd45-52c506e8b211"
      },
      "execution_count": 20,
      "outputs": [
        {
          "output_type": "stream",
          "name": "stdout",
          "text": [
            "    ID ÁREA   CARGO  SALÁRIO  TEMPO_NA_EMPRESA\n",
            "0  136   TI  JUNIOR     2500                 0\n",
            "1  125   TI  SENIOR     6000                 1\n",
            "2  148   TI  SENIOR     6000                 2\n"
          ]
        }
      ]
    },
    {
      "cell_type": "code",
      "source": [
        "# Filtrando áreas que não são TI\n",
        "query = \"SELECT * FROM td_funcionarios WHERE ÁREA NOT IN ('TI')\"\n",
        "print(run_query(query))"
      ],
      "metadata": {
        "colab": {
          "base_uri": "https://localhost:8080/"
        },
        "id": "-1zKdyCUTj7r",
        "outputId": "b0adddc3-2475-4848-f43e-3be755f0d7d9"
      },
      "execution_count": 21,
      "outputs": [
        {
          "output_type": "stream",
          "name": "stdout",
          "text": [
            "    ID       ÁREA   CARGO  SALÁRIO  TEMPO_NA_EMPRESA\n",
            "0  456        ADM   PLENO     4500                 2\n",
            "1  345        ADM   PLENO     4600                 4\n",
            "2  254        ADM  SENIOR     5600                 5\n",
            "3  178        ADM  JUNIOR     2200                 0\n",
            "4  365  MARKETING  JUNIOR     2300                 1\n",
            "5  145  MARKETING  SENIOR     5500                 3\n",
            "6  258  MARKETING   PLENO     4600                 2\n"
          ]
        }
      ]
    },
    {
      "cell_type": "code",
      "source": [
        "# Verificando nulos\n",
        "query = \"SELECT * FROM td_funcionarios WHERE ÁREA IS NULL\"\n",
        "print(run_query(query))"
      ],
      "metadata": {
        "colab": {
          "base_uri": "https://localhost:8080/"
        },
        "id": "1BGBkC6HTlrf",
        "outputId": "eca6bb04-733d-4b70-f460-cc95e52d9074"
      },
      "execution_count": 22,
      "outputs": [
        {
          "output_type": "stream",
          "name": "stdout",
          "text": [
            "Empty DataFrame\n",
            "Columns: [ID, ÁREA, CARGO, SALÁRIO, TEMPO_NA_EMPRESA]\n",
            "Index: []\n"
          ]
        }
      ]
    },
    {
      "cell_type": "code",
      "source": [
        "# Verificando não nulos\n",
        "query = \"SELECT * FROM td_funcionarios WHERE ÁREA IS NOT NULL\"\n",
        "print(run_query(query))"
      ],
      "metadata": {
        "colab": {
          "base_uri": "https://localhost:8080/"
        },
        "id": "199LPA2dTnf6",
        "outputId": "01640c96-0f28-4aac-e954-436520be0dea"
      },
      "execution_count": 23,
      "outputs": [
        {
          "output_type": "stream",
          "name": "stdout",
          "text": [
            "    ID       ÁREA   CARGO  SALÁRIO  TEMPO_NA_EMPRESA\n",
            "0  136         TI  JUNIOR     2500                 0\n",
            "1  125         TI  SENIOR     6000                 1\n",
            "2  148         TI  SENIOR     6000                 2\n",
            "3  456        ADM   PLENO     4500                 2\n",
            "4  345        ADM   PLENO     4600                 4\n",
            "5  254        ADM  SENIOR     5600                 5\n",
            "6  178        ADM  JUNIOR     2200                 0\n",
            "7  365  MARKETING  JUNIOR     2300                 1\n",
            "8  145  MARKETING  SENIOR     5500                 3\n",
            "9  258  MARKETING   PLENO     4600                 2\n"
          ]
        }
      ]
    },
    {
      "cell_type": "code",
      "source": [
        "# Ordenando por salário (decrescente)\n",
        "query = \"SELECT * FROM td_funcionarios ORDER BY SALÁRIO DESC\"\n",
        "print(run_query(query))"
      ],
      "metadata": {
        "colab": {
          "base_uri": "https://localhost:8080/"
        },
        "id": "i0XGOMNgTph9",
        "outputId": "5d286ac3-61d2-4735-abd2-04575cea804a"
      },
      "execution_count": 24,
      "outputs": [
        {
          "output_type": "stream",
          "name": "stdout",
          "text": [
            "    ID       ÁREA   CARGO  SALÁRIO  TEMPO_NA_EMPRESA\n",
            "0  125         TI  SENIOR     6000                 1\n",
            "1  148         TI  SENIOR     6000                 2\n",
            "2  254        ADM  SENIOR     5600                 5\n",
            "3  145  MARKETING  SENIOR     5500                 3\n",
            "4  345        ADM   PLENO     4600                 4\n",
            "5  258  MARKETING   PLENO     4600                 2\n",
            "6  456        ADM   PLENO     4500                 2\n",
            "7  136         TI  JUNIOR     2500                 0\n",
            "8  365  MARKETING  JUNIOR     2300                 1\n",
            "9  178        ADM  JUNIOR     2200                 0\n"
          ]
        }
      ]
    },
    {
      "cell_type": "code",
      "source": [
        "# Ordenando por salário (crescente)\n",
        "query = \"SELECT * FROM td_funcionarios ORDER BY SALÁRIO ASC\"\n",
        "print(run_query(query))"
      ],
      "metadata": {
        "colab": {
          "base_uri": "https://localhost:8080/"
        },
        "id": "xr-0x5OfTrfL",
        "outputId": "1086d78c-0f0b-42ab-d0b3-b70f82951016"
      },
      "execution_count": 25,
      "outputs": [
        {
          "output_type": "stream",
          "name": "stdout",
          "text": [
            "    ID       ÁREA   CARGO  SALÁRIO  TEMPO_NA_EMPRESA\n",
            "0  178        ADM  JUNIOR     2200                 0\n",
            "1  365  MARKETING  JUNIOR     2300                 1\n",
            "2  136         TI  JUNIOR     2500                 0\n",
            "3  456        ADM   PLENO     4500                 2\n",
            "4  345        ADM   PLENO     4600                 4\n",
            "5  258  MARKETING   PLENO     4600                 2\n",
            "6  145  MARKETING  SENIOR     5500                 3\n",
            "7  254        ADM  SENIOR     5600                 5\n",
            "8  125         TI  SENIOR     6000                 1\n",
            "9  148         TI  SENIOR     6000                 2\n"
          ]
        }
      ]
    },
    {
      "cell_type": "code",
      "source": [
        "# Soma de salários por área\n",
        "query = \"\"\"\n",
        "SELECT ÁREA, SUM(SALÁRIO) AS TOTAL_SALARIOS\n",
        "FROM td_funcionarios\n",
        "GROUP BY ÁREA\n",
        "\"\"\"\n",
        "print(run_query(query))"
      ],
      "metadata": {
        "colab": {
          "base_uri": "https://localhost:8080/"
        },
        "id": "2WoKHDViTtQ6",
        "outputId": "e0e8e0a9-8b58-4cfe-8818-5fdf66b7c065"
      },
      "execution_count": 26,
      "outputs": [
        {
          "output_type": "stream",
          "name": "stdout",
          "text": [
            "        ÁREA  TOTAL_SALARIOS\n",
            "0        ADM           16900\n",
            "1  MARKETING           12400\n",
            "2         TI           14500\n"
          ]
        }
      ]
    },
    {
      "cell_type": "code",
      "source": [
        "# Média de salários por área\n",
        "query = \"\"\"\n",
        "SELECT ÁREA, AVG(SALÁRIO) AS MEDIA_SALARIOS\n",
        "FROM td_funcionarios\n",
        "GROUP BY ÁREA\n",
        "\"\"\"\n",
        "print(run_query(query))"
      ],
      "metadata": {
        "colab": {
          "base_uri": "https://localhost:8080/"
        },
        "id": "nGuXHXl7TvrK",
        "outputId": "3aba232e-f4e0-4880-de5d-d32bd18ff450"
      },
      "execution_count": 27,
      "outputs": [
        {
          "output_type": "stream",
          "name": "stdout",
          "text": [
            "        ÁREA  MEDIA_SALARIOS\n",
            "0        ADM     4225.000000\n",
            "1  MARKETING     4133.333333\n",
            "2         TI     4833.333333\n"
          ]
        }
      ]
    },
    {
      "cell_type": "code",
      "source": [
        "# Média e soma dos salários por área\n",
        "query = \"\"\"\n",
        "SELECT ÁREA, AVG(SALÁRIO) AS MEDIA_SALARIOS, SUM(SALÁRIO) AS TOTAL_SALARIOS\n",
        "FROM td_funcionarios\n",
        "GROUP BY ÁREA\n",
        "\"\"\"\n",
        "print(run_query(query))"
      ],
      "metadata": {
        "colab": {
          "base_uri": "https://localhost:8080/"
        },
        "id": "F8vKoj10TxeK",
        "outputId": "39d81159-b446-430d-fbb0-5f41568a9a0d"
      },
      "execution_count": 28,
      "outputs": [
        {
          "output_type": "stream",
          "name": "stdout",
          "text": [
            "        ÁREA  MEDIA_SALARIOS  TOTAL_SALARIOS\n",
            "0        ADM     4225.000000           16900\n",
            "1  MARKETING     4133.333333           12400\n",
            "2         TI     4833.333333           14500\n"
          ]
        }
      ]
    },
    {
      "cell_type": "code",
      "source": [
        "# Agrupando por área e cargo\n",
        "query = \"\"\"\n",
        "SELECT ÁREA, CARGO, AVG(SALÁRIO) AS MEDIA_SALARIOS, SUM(SALÁRIO) AS TOTAL_SALARIOS\n",
        "FROM td_funcionarios\n",
        "GROUP BY ÁREA, CARGO\n",
        "\"\"\"\n",
        "print(run_query(query))"
      ],
      "metadata": {
        "colab": {
          "base_uri": "https://localhost:8080/"
        },
        "id": "qvacoVZMTzlu",
        "outputId": "742dd198-a546-46b9-aa0e-8b50d4af9202"
      },
      "execution_count": 29,
      "outputs": [
        {
          "output_type": "stream",
          "name": "stdout",
          "text": [
            "        ÁREA   CARGO  MEDIA_SALARIOS  TOTAL_SALARIOS\n",
            "0        ADM  JUNIOR          2200.0            2200\n",
            "1        ADM   PLENO          4550.0            9100\n",
            "2        ADM  SENIOR          5600.0            5600\n",
            "3  MARKETING  JUNIOR          2300.0            2300\n",
            "4  MARKETING   PLENO          4600.0            4600\n",
            "5  MARKETING  SENIOR          5500.0            5500\n",
            "6         TI  JUNIOR          2500.0            2500\n",
            "7         TI  SENIOR          6000.0           12000\n"
          ]
        }
      ]
    },
    {
      "cell_type": "code",
      "source": [
        "# Filtrando TI com salário acima de 3000\n",
        "query = \"\"\"\n",
        "SELECT ID, CARGO\n",
        "FROM td_funcionarios\n",
        "WHERE ÁREA = 'TI' AND SALÁRIO > 3000\n",
        "\"\"\"\n",
        "print(run_query(query))"
      ],
      "metadata": {
        "colab": {
          "base_uri": "https://localhost:8080/"
        },
        "id": "rTjBp3CLT1Y7",
        "outputId": "e3620bd4-f9ed-4adb-8ec8-2e74f388b656"
      },
      "execution_count": 30,
      "outputs": [
        {
          "output_type": "stream",
          "name": "stdout",
          "text": [
            "    ID   CARGO\n",
            "0  125  SENIOR\n",
            "1  148  SENIOR\n"
          ]
        }
      ]
    },
    {
      "cell_type": "code",
      "source": [
        "# Funcionários de ADM e MARKETING com maiores salários\n",
        "query = \"\"\"\n",
        "SELECT ID, SALÁRIO\n",
        "FROM td_funcionarios\n",
        "WHERE ÁREA IN ('ADM', 'MARKETING')\n",
        "ORDER BY SALÁRIO DESC\n",
        "\"\"\"\n",
        "print(run_query(query))"
      ],
      "metadata": {
        "colab": {
          "base_uri": "https://localhost:8080/"
        },
        "id": "T3nvNXodT3Gc",
        "outputId": "309b72eb-f550-40c8-99ad-c9670c3da4c1"
      },
      "execution_count": 31,
      "outputs": [
        {
          "output_type": "stream",
          "name": "stdout",
          "text": [
            "    ID  SALÁRIO\n",
            "0  254     5600\n",
            "1  145     5500\n",
            "2  345     4600\n",
            "3  258     4600\n",
            "4  456     4500\n",
            "5  365     2300\n",
            "6  178     2200\n"
          ]
        }
      ]
    },
    {
      "cell_type": "code",
      "source": [
        "# Top 3 maiores salários\n",
        "query = \"\"\"\n",
        "SELECT ÁREA, SALÁRIO\n",
        "FROM td_funcionarios\n",
        "ORDER BY SALÁRIO DESC\n",
        "LIMIT 3\n",
        "\"\"\"\n",
        "print(run_query(query))"
      ],
      "metadata": {
        "colab": {
          "base_uri": "https://localhost:8080/"
        },
        "id": "QGlmcOhnT78c",
        "outputId": "b05e9624-5e9c-4c22-b766-908509bc9c43"
      },
      "execution_count": 32,
      "outputs": [
        {
          "output_type": "stream",
          "name": "stdout",
          "text": [
            "  ÁREA  SALÁRIO\n",
            "0   TI     6000\n",
            "1   TI     6000\n",
            "2  ADM     5600\n"
          ]
        }
      ]
    },
    {
      "cell_type": "code",
      "source": [
        "# Soma de salários por área, ordenado por valor\n",
        "query = \"\"\"\n",
        "SELECT ÁREA, SUM(SALÁRIO) AS SALÁRIO_TOTAL\n",
        "FROM td_funcionarios\n",
        "GROUP BY ÁREA\n",
        "ORDER BY SALÁRIO_TOTAL DESC\n",
        "\"\"\"\n",
        "print(run_query(query))"
      ],
      "metadata": {
        "colab": {
          "base_uri": "https://localhost:8080/"
        },
        "id": "rbJfMVNfT966",
        "outputId": "68ef3e45-e570-4bf0-fce5-ad8aff0b12d3"
      },
      "execution_count": 33,
      "outputs": [
        {
          "output_type": "stream",
          "name": "stdout",
          "text": [
            "        ÁREA  SALÁRIO_TOTAL\n",
            "0        ADM          16900\n",
            "1         TI          14500\n",
            "2  MARKETING          12400\n"
          ]
        }
      ]
    },
    {
      "cell_type": "code",
      "source": [
        "# Soma de salários e média de tempo na empresa por área e cargo\n",
        "query = \"\"\"\n",
        "SELECT\n",
        "ÁREA,\n",
        "CARGO,\n",
        "SUM(SALÁRIO) AS SALÁRIO_TOTAL,\n",
        "AVG(TEMPO_NA_EMPRESA) AS MED_TEMP_EMPRESA\n",
        "FROM td_funcionarios\n",
        "GROUP BY ÁREA, CARGO\n",
        "ORDER BY SALÁRIO_TOTAL DESC\n",
        "\"\"\"\n",
        "print(run_query(query))"
      ],
      "metadata": {
        "colab": {
          "base_uri": "https://localhost:8080/"
        },
        "id": "LHONBq6pUAEK",
        "outputId": "bbfcd82a-9ac1-437d-9282-602bdb08d626"
      },
      "execution_count": 34,
      "outputs": [
        {
          "output_type": "stream",
          "name": "stdout",
          "text": [
            "        ÁREA   CARGO  SALÁRIO_TOTAL  MED_TEMP_EMPRESA\n",
            "0         TI  SENIOR          12000               1.5\n",
            "1        ADM   PLENO           9100               3.0\n",
            "2        ADM  SENIOR           5600               5.0\n",
            "3  MARKETING  SENIOR           5500               3.0\n",
            "4  MARKETING   PLENO           4600               2.0\n",
            "5         TI  JUNIOR           2500               0.0\n",
            "6  MARKETING  JUNIOR           2300               1.0\n",
            "7        ADM  JUNIOR           2200               0.0\n"
          ]
        }
      ]
    }
  ]
}